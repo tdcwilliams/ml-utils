{
 "cells": [
  {
   "cell_type": "code",
   "execution_count": 1,
   "id": "comic-headquarters",
   "metadata": {},
   "outputs": [],
   "source": [
    "import pandas as pd\n",
    "import numpy as np\n",
    "from collections import defaultdict\n",
    "\n",
    "from sklearn.preprocessing import OrdinalEncoder\n",
    "from sklearn.preprocessing import StandardScaler\n",
    "\n",
    "from sklearn.model_selection import train_test_split\n",
    "from sklearn.model_selection import StratifiedKFold\n",
    "from sklearn.model_selection import cross_val_score\n",
    "from sklearn.model_selection import GridSearchCV\n",
    "\n",
    "from sklearn.pipeline import Pipeline\n",
    "from sklearn.metrics import accuracy_score\n",
    "\n",
    "from xgboost import XGBClassifier\n",
    "from xgboost import plot_tree\n",
    "\n",
    "from matplotlib import pyplot as plt"
   ]
  },
  {
   "cell_type": "code",
   "execution_count": 2,
   "id": "green-newark",
   "metadata": {},
   "outputs": [],
   "source": [
    "_DATA_TYPES = dict(\n",
    "    PassengerId=int,\n",
    "    Survived=int,\n",
    "    Pclass=int,\n",
    "    Title=str,\n",
    "    Sex=str,\n",
    "    Age=float,\n",
    "    SibSp=int,#number of siblings/spouses\n",
    "    Parch=int,#number of parents/children\n",
    "    TicketTag=str,\n",
    "    Fare=float,\n",
    "    CabinTag=str,\n",
    "    NumCabins=int,\n",
    "    Embarked=str,\n",
    "    )"
   ]
  },
  {
   "cell_type": "code",
   "execution_count": 3,
   "id": "labeled-gothic",
   "metadata": {},
   "outputs": [],
   "source": [
    "class Preprocessor:\n",
    "    \"\"\" Class to transform features,\n",
    "    by ordinal encoding or scaling (or by doing nothing)\n",
    "    \"\"\"\n",
    "    def __init__(self, columns):\n",
    "        self.columns = columns\n",
    "        self.transformers = []\n",
    "        self.categorical_cols = []\n",
    "        for i, col in enumerate(self.columns):\n",
    "            if _DATA_TYPES[col] == str:\n",
    "                # categorical\n",
    "                self.transformers += [OrdinalEncoder()]\n",
    "                self.categorical_cols += [i]\n",
    "            elif _DATA_TYPES[col] == float:\n",
    "                # numeric\n",
    "                self.transformers += [StandardScaler()]\n",
    "            else:\n",
    "                # leave integers as they are\n",
    "                self.transformers += [None]\n",
    "    \n",
    "    def fit(self, x, y=None):\n",
    "        for i, tran in enumerate(self.transformers):\n",
    "            if tran is None:\n",
    "                continue\n",
    "            data = x[:,i].reshape(-1,1)\n",
    "            if i in self.categorical_cols:\n",
    "                # convert to str to handle missing (np.nan -> 'nan')\n",
    "                data = np.unique(data.astype(str))\n",
    "                # allow for missing values even if none in training set\n",
    "                data = np.array(list(data) + ['nan']).reshape(-1,1)\n",
    "            tran.fit(data)\n",
    "        return self\n",
    "    \n",
    "    def transform(self, x, y=None):\n",
    "        out = []\n",
    "        for i, tran in enumerate(self.transformers):\n",
    "            data = x[:,i].reshape(-1,1)\n",
    "            if tran is None:\n",
    "                out += [data]\n",
    "                continue\n",
    "            if i in self.categorical_cols:\n",
    "                data = data.astype(str)\n",
    "            out += [tran.transform(data)]\n",
    "        return np.hstack(out)\n",
    "    \n",
    "    def inverse_transform(self, x, y=None):\n",
    "        out = []\n",
    "        for i, tran in enumerate(self.transformers):\n",
    "            data = x[:,i].reshape(-1,1)\n",
    "            if tran is None:\n",
    "                out += [data]\n",
    "                continue\n",
    "            out += [tran.inverse_transform(data)]\n",
    "        return np.hstack(out)"
   ]
  },
  {
   "cell_type": "code",
   "execution_count": 4,
   "id": "vanilla-decade",
   "metadata": {
    "scrolled": false
   },
   "outputs": [
    {
     "data": {
      "text/html": [
       "<div>\n",
       "<style scoped>\n",
       "    .dataframe tbody tr th:only-of-type {\n",
       "        vertical-align: middle;\n",
       "    }\n",
       "\n",
       "    .dataframe tbody tr th {\n",
       "        vertical-align: top;\n",
       "    }\n",
       "\n",
       "    .dataframe thead th {\n",
       "        text-align: right;\n",
       "    }\n",
       "</style>\n",
       "<table border=\"1\" class=\"dataframe\">\n",
       "  <thead>\n",
       "    <tr style=\"text-align: right;\">\n",
       "      <th></th>\n",
       "      <th>Pclass</th>\n",
       "      <th>Title</th>\n",
       "      <th>Sex</th>\n",
       "      <th>Age</th>\n",
       "      <th>SibSp</th>\n",
       "      <th>Parch</th>\n",
       "      <th>TicketTag</th>\n",
       "      <th>Fare</th>\n",
       "      <th>CabinTag</th>\n",
       "      <th>NumCabins</th>\n",
       "      <th>Embarked</th>\n",
       "    </tr>\n",
       "    <tr>\n",
       "      <th>PassengerId</th>\n",
       "      <th></th>\n",
       "      <th></th>\n",
       "      <th></th>\n",
       "      <th></th>\n",
       "      <th></th>\n",
       "      <th></th>\n",
       "      <th></th>\n",
       "      <th></th>\n",
       "      <th></th>\n",
       "      <th></th>\n",
       "      <th></th>\n",
       "    </tr>\n",
       "  </thead>\n",
       "  <tbody>\n",
       "    <tr>\n",
       "      <th>1</th>\n",
       "      <td>3</td>\n",
       "      <td>Mr.</td>\n",
       "      <td>male</td>\n",
       "      <td>22.0</td>\n",
       "      <td>1</td>\n",
       "      <td>0</td>\n",
       "      <td>A/5</td>\n",
       "      <td>7.2500</td>\n",
       "      <td>NaN</td>\n",
       "      <td>0</td>\n",
       "      <td>S</td>\n",
       "    </tr>\n",
       "    <tr>\n",
       "      <th>2</th>\n",
       "      <td>1</td>\n",
       "      <td>Mrs.</td>\n",
       "      <td>female</td>\n",
       "      <td>38.0</td>\n",
       "      <td>1</td>\n",
       "      <td>0</td>\n",
       "      <td>PC</td>\n",
       "      <td>71.2833</td>\n",
       "      <td>C</td>\n",
       "      <td>1</td>\n",
       "      <td>C</td>\n",
       "    </tr>\n",
       "    <tr>\n",
       "      <th>3</th>\n",
       "      <td>3</td>\n",
       "      <td>Miss.</td>\n",
       "      <td>female</td>\n",
       "      <td>26.0</td>\n",
       "      <td>0</td>\n",
       "      <td>0</td>\n",
       "      <td>STON/O2.</td>\n",
       "      <td>7.9250</td>\n",
       "      <td>NaN</td>\n",
       "      <td>0</td>\n",
       "      <td>S</td>\n",
       "    </tr>\n",
       "    <tr>\n",
       "      <th>4</th>\n",
       "      <td>1</td>\n",
       "      <td>Mrs.</td>\n",
       "      <td>female</td>\n",
       "      <td>35.0</td>\n",
       "      <td>1</td>\n",
       "      <td>0</td>\n",
       "      <td>NaN</td>\n",
       "      <td>53.1000</td>\n",
       "      <td>C</td>\n",
       "      <td>1</td>\n",
       "      <td>S</td>\n",
       "    </tr>\n",
       "    <tr>\n",
       "      <th>5</th>\n",
       "      <td>3</td>\n",
       "      <td>Mr.</td>\n",
       "      <td>male</td>\n",
       "      <td>35.0</td>\n",
       "      <td>0</td>\n",
       "      <td>0</td>\n",
       "      <td>NaN</td>\n",
       "      <td>8.0500</td>\n",
       "      <td>NaN</td>\n",
       "      <td>0</td>\n",
       "      <td>S</td>\n",
       "    </tr>\n",
       "    <tr>\n",
       "      <th>...</th>\n",
       "      <td>...</td>\n",
       "      <td>...</td>\n",
       "      <td>...</td>\n",
       "      <td>...</td>\n",
       "      <td>...</td>\n",
       "      <td>...</td>\n",
       "      <td>...</td>\n",
       "      <td>...</td>\n",
       "      <td>...</td>\n",
       "      <td>...</td>\n",
       "      <td>...</td>\n",
       "    </tr>\n",
       "    <tr>\n",
       "      <th>887</th>\n",
       "      <td>2</td>\n",
       "      <td>Rev.</td>\n",
       "      <td>male</td>\n",
       "      <td>27.0</td>\n",
       "      <td>0</td>\n",
       "      <td>0</td>\n",
       "      <td>NaN</td>\n",
       "      <td>13.0000</td>\n",
       "      <td>NaN</td>\n",
       "      <td>0</td>\n",
       "      <td>S</td>\n",
       "    </tr>\n",
       "    <tr>\n",
       "      <th>888</th>\n",
       "      <td>1</td>\n",
       "      <td>Miss.</td>\n",
       "      <td>female</td>\n",
       "      <td>19.0</td>\n",
       "      <td>0</td>\n",
       "      <td>0</td>\n",
       "      <td>NaN</td>\n",
       "      <td>30.0000</td>\n",
       "      <td>B</td>\n",
       "      <td>1</td>\n",
       "      <td>S</td>\n",
       "    </tr>\n",
       "    <tr>\n",
       "      <th>889</th>\n",
       "      <td>3</td>\n",
       "      <td>Miss.</td>\n",
       "      <td>female</td>\n",
       "      <td>NaN</td>\n",
       "      <td>1</td>\n",
       "      <td>2</td>\n",
       "      <td>W./C.</td>\n",
       "      <td>23.4500</td>\n",
       "      <td>NaN</td>\n",
       "      <td>0</td>\n",
       "      <td>S</td>\n",
       "    </tr>\n",
       "    <tr>\n",
       "      <th>890</th>\n",
       "      <td>1</td>\n",
       "      <td>Mr.</td>\n",
       "      <td>male</td>\n",
       "      <td>26.0</td>\n",
       "      <td>0</td>\n",
       "      <td>0</td>\n",
       "      <td>NaN</td>\n",
       "      <td>30.0000</td>\n",
       "      <td>C</td>\n",
       "      <td>1</td>\n",
       "      <td>C</td>\n",
       "    </tr>\n",
       "    <tr>\n",
       "      <th>891</th>\n",
       "      <td>3</td>\n",
       "      <td>Mr.</td>\n",
       "      <td>male</td>\n",
       "      <td>32.0</td>\n",
       "      <td>0</td>\n",
       "      <td>0</td>\n",
       "      <td>NaN</td>\n",
       "      <td>7.7500</td>\n",
       "      <td>NaN</td>\n",
       "      <td>0</td>\n",
       "      <td>Q</td>\n",
       "    </tr>\n",
       "  </tbody>\n",
       "</table>\n",
       "<p>891 rows × 11 columns</p>\n",
       "</div>"
      ],
      "text/plain": [
       "             Pclass  Title     Sex   Age  SibSp  Parch TicketTag     Fare  \\\n",
       "PassengerId                                                                 \n",
       "1                 3    Mr.    male  22.0      1      0       A/5   7.2500   \n",
       "2                 1   Mrs.  female  38.0      1      0        PC  71.2833   \n",
       "3                 3  Miss.  female  26.0      0      0  STON/O2.   7.9250   \n",
       "4                 1   Mrs.  female  35.0      1      0       NaN  53.1000   \n",
       "5                 3    Mr.    male  35.0      0      0       NaN   8.0500   \n",
       "...             ...    ...     ...   ...    ...    ...       ...      ...   \n",
       "887               2   Rev.    male  27.0      0      0       NaN  13.0000   \n",
       "888               1  Miss.  female  19.0      0      0       NaN  30.0000   \n",
       "889               3  Miss.  female   NaN      1      2     W./C.  23.4500   \n",
       "890               1    Mr.    male  26.0      0      0       NaN  30.0000   \n",
       "891               3    Mr.    male  32.0      0      0       NaN   7.7500   \n",
       "\n",
       "            CabinTag  NumCabins Embarked  \n",
       "PassengerId                               \n",
       "1                NaN          0        S  \n",
       "2                  C          1        C  \n",
       "3                NaN          0        S  \n",
       "4                  C          1        S  \n",
       "5                NaN          0        S  \n",
       "...              ...        ...      ...  \n",
       "887              NaN          0        S  \n",
       "888                B          1        S  \n",
       "889              NaN          0        S  \n",
       "890                C          1        C  \n",
       "891              NaN          0        Q  \n",
       "\n",
       "[891 rows x 11 columns]"
      ]
     },
     "execution_count": 4,
     "metadata": {},
     "output_type": "execute_result"
    }
   ],
   "source": [
    "df_train_val = pd.read_csv('features.train.csv',\n",
    "                       index_col='PassengerId', dtype=_DATA_TYPES)\n",
    "y = df_train_val.Survived.values #doesn't need encoding\n",
    "df_train_val = df_train_val.drop('Survived', axis=1)\n",
    "df_train_val"
   ]
  },
  {
   "cell_type": "code",
   "execution_count": 5,
   "id": "equivalent-apple",
   "metadata": {},
   "outputs": [
    {
     "data": {
      "text/plain": [
       "C    59\n",
       "B    47\n",
       "D    33\n",
       "E    32\n",
       "A    15\n",
       "F    13\n",
       "G     4\n",
       "T     1\n",
       "Name: CabinTag, dtype: int64"
      ]
     },
     "execution_count": 5,
     "metadata": {},
     "output_type": "execute_result"
    }
   ],
   "source": [
    "df_train_val.CabinTag.value_counts()"
   ]
  },
  {
   "cell_type": "code",
   "execution_count": 6,
   "id": "indirect-reunion",
   "metadata": {},
   "outputs": [
    {
     "data": {
      "text/plain": [
       "PC            60\n",
       "C.A.          27\n",
       "STON/O        12\n",
       "A/5           10\n",
       "W./C.          9\n",
       "SOTON/O.Q.     8\n",
       "CA.            8\n",
       "SOTON/OQ       7\n",
       "A/5.           7\n",
       "CA             6\n",
       "STON/O2.       6\n",
       "C              5\n",
       "SC/PARIS       5\n",
       "F.C.C.         5\n",
       "S.O.C.         5\n",
       "SC/Paris       4\n",
       "S.O./P.P.      3\n",
       "PP             3\n",
       "SC/AH          3\n",
       "A/4.           3\n",
       "A/4            3\n",
       "SOTON/O2       2\n",
       "A.5.           2\n",
       "P/PP           2\n",
       "S.C./PARIS     2\n",
       "A./5.          2\n",
       "WE/P           2\n",
       "S.C./A.4.      1\n",
       "W/C            1\n",
       "SW/PP          1\n",
       "S.W./PP        1\n",
       "F.C.           1\n",
       "C.A./SOTON     1\n",
       "A4.            1\n",
       "SO/C           1\n",
       "SC             1\n",
       "W.E.P.         1\n",
       "S.P.           1\n",
       "Fa             1\n",
       "A/S            1\n",
       "SCO/W          1\n",
       "S.O.P.         1\n",
       "Name: TicketTag, dtype: int64"
      ]
     },
     "execution_count": 6,
     "metadata": {},
     "output_type": "execute_result"
    }
   ],
   "source": [
    "df_train_val.TicketTag.value_counts()"
   ]
  },
  {
   "cell_type": "code",
   "execution_count": 5,
   "id": "ultimate-shirt",
   "metadata": {},
   "outputs": [],
   "source": [
    "df_train_val = df_train_val.drop(['Title', 'TicketTag', 'CabinTag'], axis=1)"
   ]
  },
  {
   "cell_type": "code",
   "execution_count": null,
   "id": "happy-afternoon",
   "metadata": {},
   "outputs": [],
   "source": []
  },
  {
   "cell_type": "code",
   "execution_count": 6,
   "id": "irish-prairie",
   "metadata": {},
   "outputs": [],
   "source": [
    "df_train, df_val, y_train, y_val = train_test_split(\n",
    "    df_train_val, y, random_state=7, test_size=.33)"
   ]
  },
  {
   "cell_type": "code",
   "execution_count": 7,
   "id": "naked-floor",
   "metadata": {},
   "outputs": [],
   "source": [
    "params = dict(\n",
    "    objective='binary:logistic',\n",
    "    use_label_encoder=False,\n",
    "    max_depth=3,\n",
    "#     learning_rate=.001,\n",
    "#     n_estimators=2000,\n",
    ")\n",
    "pipeline = Pipeline(steps=[\n",
    "    (\"preproc\", Preprocessor(df_train.columns)),\n",
    "    (\"model\", XGBClassifier(**params)),\n",
    "])"
   ]
  },
  {
   "cell_type": "code",
   "execution_count": 8,
   "id": "quick-windsor",
   "metadata": {},
   "outputs": [
    {
     "data": {
      "text/plain": [
       "Pipeline(steps=[('preproc', <__main__.Preprocessor object at 0x7fa1b6ff1eb0>),\n",
       "                ('model',\n",
       "                 XGBClassifier(base_score=0.5, booster='gbtree',\n",
       "                               colsample_bylevel=1, colsample_bynode=1,\n",
       "                               colsample_bytree=1, gamma=0, gpu_id=-1,\n",
       "                               importance_type='gain',\n",
       "                               interaction_constraints='',\n",
       "                               learning_rate=0.300000012, max_delta_step=0,\n",
       "                               max_depth=3, min_child_weight=1, missing=nan,\n",
       "                               monotone_constraints='()', n_estimators=100,\n",
       "                               n_jobs=8, num_parallel_tree=1, random_state=0,\n",
       "                               reg_alpha=0, reg_lambda=1, scale_pos_weight=1,\n",
       "                               subsample=1, tree_method='exact',\n",
       "                               use_label_encoder=False, validate_parameters=1,\n",
       "                               verbosity=None))])"
      ]
     },
     "execution_count": 8,
     "metadata": {},
     "output_type": "execute_result"
    }
   ],
   "source": [
    "pipeline.fit(df_train.values, y_train, model__eval_metric='logloss')"
   ]
  },
  {
   "cell_type": "code",
   "execution_count": 9,
   "id": "reserved-admission",
   "metadata": {},
   "outputs": [
    {
     "name": "stdout",
     "output_type": "stream",
     "text": [
      "Accuracy = 0.8033898305084746\n"
     ]
    }
   ],
   "source": [
    "y_pred = pipeline.predict(df_val.values)\n",
    "print(f'Accuracy = {accuracy_score(y_val, y_pred)}')"
   ]
  },
  {
   "cell_type": "code",
   "execution_count": 10,
   "id": "challenging-thread",
   "metadata": {},
   "outputs": [
    {
     "data": {
      "text/plain": [
       "<AxesSubplot:>"
      ]
     },
     "execution_count": 10,
     "metadata": {},
     "output_type": "execute_result"
    },
    {
     "data": {
      "image/png": "[encoded data removed]",
      "text/plain": [
       "<Figure size 432x288 with 1 Axes>"
      ]
     },
     "metadata": {
      "needs_background": "light"
     },
     "output_type": "display_data"
    }
   ],
   "source": [
    "#plot one tree\n",
    "plot_tree(pipeline.named_steps['model'])"
   ]
  },
  {
   "cell_type": "code",
   "execution_count": 11,
   "id": "residential-champagne",
   "metadata": {},
   "outputs": [
    {
     "data": {
      "image/png": "[encoded data removed]",
      "text/plain": [
       "<Figure size 432x288 with 1 Axes>"
      ]
     },
     "metadata": {
      "needs_background": "light"
     },
     "output_type": "display_data"
    }
   ],
   "source": [
    "importances = pipeline.named_steps['model'].feature_importances_\n",
    "indices = np.argsort(importances)\n",
    "# std = np.std([tree.feature_importances_ for tree in forest.estimators_],\n",
    "#              axis=0)\n",
    "n_ft = len(importances)\n",
    "\n",
    "plt.figure()\n",
    "plt.title(\"Feature importances\")\n",
    "plt.barh(range(n_ft), importances[indices],\n",
    "         color=\"r\",\n",
    "         #xerr=std[indices],\n",
    "         align=\"center\")\n",
    "# If you want to define your own labels,\n",
    "# change indices to a list of labels on the following line.\n",
    "plt.yticks(range(n_ft), df_train_val.columns[indices])\n",
    "plt.ylim([-1, n_ft])\n",
    "plt.show()"
   ]
  },
  {
   "cell_type": "markdown",
   "id": "revised-samuel",
   "metadata": {},
   "source": [
    "# Stochastic gradient boosting\n",
    "## Row subsampling\n",
    "- when making a new tree\n",
    "- use `subsample`"
   ]
  },
  {
   "cell_type": "code",
   "execution_count": 33,
   "id": "higher-parish",
   "metadata": {},
   "outputs": [],
   "source": [
    "def check_params(params):\n",
    "    pipeline = Pipeline(steps=[\n",
    "        (\"preproc\", Preprocessor(df_train.columns)),\n",
    "        (\"model\", XGBClassifier(**params)),\n",
    "    ])\n",
    "    # check cross-validation\n",
    "    kfold = StratifiedKFold(n_splits=3, shuffle=True, random_state=7)\n",
    "    results = cross_val_score(pipeline, df_train_val.values, y, cv=kfold,\n",
    "                fit_params=dict(model__eval_metric='logloss'))\n",
    "    print(\"Accuracy: %.2f%% (%.2f%%)\" % (results.mean()*100, results.std()*100))\n",
    "    return pipeline"
   ]
  },
  {
   "cell_type": "code",
   "execution_count": 34,
   "id": "deadly-stranger",
   "metadata": {},
   "outputs": [
    {
     "name": "stdout",
     "output_type": "stream",
     "text": [
      "Accuracy: 83.73% (0.84%)\n"
     ]
    }
   ],
   "source": [
    "# best so far\n",
    "params = dict(\n",
    "    objective = 'binary:logistic',\n",
    "    use_label_encoder = False,\n",
    "    max_depth = 3,\n",
    "    colsample_bylevel = .8,\n",
    "    reg_alpha = .5,\n",
    "    learning_rate = .3,\n",
    ")\n",
    "pipeline = check_params(params)"
   ]
  },
  {
   "cell_type": "code",
   "execution_count": 39,
   "id": "identical-qualification",
   "metadata": {},
   "outputs": [
    {
     "name": "stdout",
     "output_type": "stream",
     "text": [
      "Accuracy: 83.39% (1.38%)\n"
     ]
    },
    {
     "data": {
      "text/plain": [
       "Pipeline(steps=[('preproc', <__main__.Preprocessor object at 0x7fa2047337c0>),\n",
       "                ('model',\n",
       "                 XGBClassifier(base_score=None, booster=None,\n",
       "                               colsample_bylevel=0.8, colsample_bynode=None,\n",
       "                               colsample_bytree=None, gamma=None, gpu_id=None,\n",
       "                               importance_type='gain',\n",
       "                               interaction_constraints=None, learning_rate=0.3,\n",
       "                               max_bin=150, max_delta_step=None, max_depth=3,\n",
       "                               min_child_weight=None, missing=nan,\n",
       "                               monotone_constraints=None, n_estimators=100,\n",
       "                               n_jobs=None, num_parallel_tree=None,\n",
       "                               random_state=None, reg_alpha=0.5,\n",
       "                               reg_lambda=None, scale_pos_weight=None,\n",
       "                               subsample=None, tree_method='hist',\n",
       "                               use_label_encoder=False,\n",
       "                               validate_parameters=None, verbosity=None))])"
      ]
     },
     "execution_count": 39,
     "metadata": {},
     "output_type": "execute_result"
    }
   ],
   "source": [
    "# best so far\n",
    "params = dict(\n",
    "    objective = 'binary:logistic',\n",
    "    use_label_encoder = False,\n",
    "    max_depth = 3,\n",
    "    colsample_bylevel = .8,\n",
    "    reg_alpha = .5,\n",
    "    learning_rate = .3,\n",
    "    tree_method = 'hist',\n",
    "    max_bin = 150,\n",
    ")\n",
    "check_params(params)"
   ]
  },
  {
   "cell_type": "code",
   "execution_count": 107,
   "id": "unlike-whale",
   "metadata": {
    "scrolled": true
   },
   "outputs": [
    {
     "name": "stdout",
     "output_type": "stream",
     "text": [
      "Fitting 3 folds for each of 9 candidates, totalling 27 fits\n"
     ]
    }
   ],
   "source": [
    "subsample = [0.1, 0.2, 0.3, 0.4, 0.5, 0.6, 0.7, 0.8, 1.0]\n",
    "param_grid = dict(model__subsample=subsample, model__eval_metric=['logloss'])\n",
    "kfold = StratifiedKFold(n_splits=3, shuffle=True, random_state=7)\n",
    "grid_search = GridSearchCV(pipeline, param_grid,\n",
    "        scoring=\"accuracy\", n_jobs=-1, cv=kfold, verbose=2)\n",
    "grid_result = grid_search.fit(df_train_val.values, y)"
   ]
  },
  {
   "cell_type": "code",
   "execution_count": 108,
   "id": "inclusive-america",
   "metadata": {},
   "outputs": [
    {
     "name": "stdout",
     "output_type": "stream",
     "text": [
      "Best: 0.832772 using {'model__eval_metric': 'logloss', 'model__subsample': 1.0}\n",
      "0.814815 (0.010997) with: {'model__eval_metric': 'logloss', 'model__subsample': 0.1}\n",
      "0.818182 (0.013746) with: {'model__eval_metric': 'logloss', 'model__subsample': 0.2}\n",
      "0.831650 (0.009523) with: {'model__eval_metric': 'logloss', 'model__subsample': 0.3}\n",
      "0.817059 (0.009655) with: {'model__eval_metric': 'logloss', 'model__subsample': 0.4}\n",
      "0.818182 (0.011983) with: {'model__eval_metric': 'logloss', 'model__subsample': 0.5}\n",
      "0.823793 (0.009655) with: {'model__eval_metric': 'logloss', 'model__subsample': 0.6}\n",
      "0.822671 (0.014108) with: {'model__eval_metric': 'logloss', 'model__subsample': 0.7}\n",
      "0.824916 (0.007274) with: {'model__eval_metric': 'logloss', 'model__subsample': 0.8}\n",
      "0.832772 (0.007936) with: {'model__eval_metric': 'logloss', 'model__subsample': 1.0}\n"
     ]
    },
    {
     "data": {
      "text/plain": [
       "Text(0, 0.5, 'Log Loss')"
      ]
     },
     "execution_count": 108,
     "metadata": {},
     "output_type": "execute_result"
    },
    {
     "data": {
      "image/png": "[encoded data removed]",
      "text/plain": [
       "<Figure size 432x288 with 1 Axes>"
      ]
     },
     "metadata": {
      "needs_background": "light"
     },
     "output_type": "display_data"
    }
   ],
   "source": [
    "print(\"Best: %f using %s\" % (grid_result.best_score_, grid_result.best_params_))\n",
    "means = grid_result.cv_results_['mean_test_score']\n",
    "stds = grid_result.cv_results_['std_test_score']\n",
    "params = grid_result.cv_results_['params']\n",
    "for mean, stdev, param in zip(means, stds, params):\n",
    "    print(\"%f (%f) with: %r\" % (mean, stdev, param))\n",
    "# plot\n",
    "plt.errorbar(subsample, means, yerr=stds)\n",
    "plt.title(\"XGBoost subsample vs Log Loss\")\n",
    "plt.xlabel('subsample')\n",
    "plt.ylabel('Log Loss')\n",
    "# plt.savefig('colsample_bytree.png')\n"
   ]
  },
  {
   "cell_type": "code",
   "execution_count": 98,
   "id": "irish-robin",
   "metadata": {},
   "outputs": [
    {
     "data": {
      "text/plain": [
       "Pipeline(steps=[('preproc', <__main__.Preprocessor object at 0x7fa4b1ed98b0>),\n",
       "                ('model',\n",
       "                 XGBClassifier(base_score=0.5, booster='gbtree',\n",
       "                               colsample_bylevel=1, colsample_bynode=1,\n",
       "                               colsample_bytree=1, eval_metric='logloss',\n",
       "                               gamma=0, gpu_id=-1, importance_type='gain',\n",
       "                               interaction_constraints='',\n",
       "                               learning_rate=0.300000012, max_delta_step=0,\n",
       "                               max_depth=3, min_child_weight=1, missing=nan,\n",
       "                               monotone_constraints='()', n_estimators=100,\n",
       "                               n_jobs=8, num_parallel_tree=1, random_state=0,\n",
       "                               reg_alpha=0, reg_lambda=1, scale_pos_weight=1,\n",
       "                               subsample=1.0, tree_method='exact',\n",
       "                               use_label_encoder=False, validate_parameters=1,\n",
       "                               verbosity=None))])"
      ]
     },
     "execution_count": 98,
     "metadata": {},
     "output_type": "execute_result"
    }
   ],
   "source": [
    "grid_result.best_estimator_"
   ]
  },
  {
   "cell_type": "markdown",
   "id": "removed-edgar",
   "metadata": {},
   "source": [
    "## Feature subsampling for each tree\n",
    "- use `colsample_bytree`"
   ]
  },
  {
   "cell_type": "code",
   "execution_count": 99,
   "id": "psychological-female",
   "metadata": {},
   "outputs": [],
   "source": [
    "colsample_bytree = [0.1, 0.2, 0.3, 0.4, 0.5, 0.6, 0.7, 0.8, 1.0]\n",
    "param_grid = dict(model__colsample_bytree=colsample_bytree, model__eval_metric=['logloss'])\n",
    "kfold = StratifiedKFold(n_splits=5, shuffle=True, random_state=7)\n",
    "grid_search = GridSearchCV(pipeline, param_grid,\n",
    "        scoring=\"accuracy\", n_jobs=-1, cv=kfold)\n",
    "grid_result = grid_search.fit(df_train_val.values, y)"
   ]
  },
  {
   "cell_type": "code",
   "execution_count": 100,
   "id": "empty-canon",
   "metadata": {
    "scrolled": true
   },
   "outputs": [
    {
     "name": "stdout",
     "output_type": "stream",
     "text": [
      "Best: 0.829377 using {'model__colsample_bytree': 1.0, 'model__eval_metric': 'logloss'}\n",
      "0.810276 (0.023978) with: {'model__colsample_bytree': 0.1, 'model__eval_metric': 'logloss'}\n",
      "0.810276 (0.023978) with: {'model__colsample_bytree': 0.2, 'model__eval_metric': 'logloss'}\n",
      "0.818141 (0.022900) with: {'model__colsample_bytree': 0.3, 'model__eval_metric': 'logloss'}\n",
      "0.815912 (0.020108) with: {'model__colsample_bytree': 0.4, 'model__eval_metric': 'logloss'}\n",
      "0.815919 (0.020682) with: {'model__colsample_bytree': 0.5, 'model__eval_metric': 'logloss'}\n",
      "0.815919 (0.020682) with: {'model__colsample_bytree': 0.6, 'model__eval_metric': 'logloss'}\n",
      "0.820413 (0.015628) with: {'model__colsample_bytree': 0.7, 'model__eval_metric': 'logloss'}\n",
      "0.822648 (0.025909) with: {'model__colsample_bytree': 0.8, 'model__eval_metric': 'logloss'}\n",
      "0.829377 (0.021685) with: {'model__colsample_bytree': 1.0, 'model__eval_metric': 'logloss'}\n"
     ]
    },
    {
     "data": {
      "text/plain": [
       "Text(0, 0.5, 'Log Loss')"
      ]
     },
     "execution_count": 100,
     "metadata": {},
     "output_type": "execute_result"
    },
    {
     "data": {
      "image/png": "[encoded data removed]",
      "text/plain": [
       "<Figure size 432x288 with 1 Axes>"
      ]
     },
     "metadata": {
      "needs_background": "light"
     },
     "output_type": "display_data"
    }
   ],
   "source": [
    "print(\"Best: %f using %s\" % (grid_result.best_score_, grid_result.best_params_))\n",
    "means = grid_result.cv_results_['mean_test_score']\n",
    "stds = grid_result.cv_results_['std_test_score']\n",
    "params = grid_result.cv_results_['params']\n",
    "for mean, stdev, param in zip(means, stds, params):\n",
    "    print(\"%f (%f) with: %r\" % (mean, stdev, param))\n",
    "# plot\n",
    "plt.errorbar(colsample_bytree, means, yerr=stds)\n",
    "plt.title(\"XGBoost colsample_bytree vs Log Loss\")\n",
    "plt.xlabel('colsample_bytree')\n",
    "plt.ylabel('Log Loss')\n",
    "# plt.savefig('colsample_bytree.png')"
   ]
  },
  {
   "cell_type": "markdown",
   "id": "spare-difference",
   "metadata": {},
   "source": [
    "## Feature subsampling for each split in tree\n",
    "- use `colsample_bylevel`"
   ]
  },
  {
   "cell_type": "code",
   "execution_count": 102,
   "id": "lined-executive",
   "metadata": {},
   "outputs": [
    {
     "name": "stdout",
     "output_type": "stream",
     "text": [
      "Fitting 5 folds for each of 9 candidates, totalling 45 fits\n"
     ]
    }
   ],
   "source": [
    "colsample_bylevel = [0.1, 0.2, 0.3, 0.4, 0.5, 0.6, 0.7, 0.8, 1.0]\n",
    "param_grid = dict(model__colsample_bylevel=colsample_bylevel, model__eval_metric=['logloss'])\n",
    "kfold = StratifiedKFold(n_splits=5, shuffle=True, random_state=7)\n",
    "grid_search = GridSearchCV(pipeline, param_grid,\n",
    "        scoring=\"accuracy\", n_jobs=-1, cv=kfold, verbose=1)\n",
    "grid_result = grid_search.fit(df_train_val.values, y)"
   ]
  },
  {
   "cell_type": "code",
   "execution_count": 103,
   "id": "respected-crash",
   "metadata": {},
   "outputs": [
    {
     "name": "stdout",
     "output_type": "stream",
     "text": [
      "Best: 0.830507 using {'model__colsample_bylevel': 0.8, 'model__eval_metric': 'logloss'}\n",
      "0.819277 (0.020120) with: {'model__colsample_bylevel': 0.1, 'model__eval_metric': 'logloss'}\n",
      "0.819277 (0.020120) with: {'model__colsample_bylevel': 0.2, 'model__eval_metric': 'logloss'}\n",
      "0.827129 (0.016706) with: {'model__colsample_bylevel': 0.3, 'model__eval_metric': 'logloss'}\n",
      "0.823784 (0.011702) with: {'model__colsample_bylevel': 0.4, 'model__eval_metric': 'logloss'}\n",
      "0.820400 (0.014921) with: {'model__colsample_bylevel': 0.5, 'model__eval_metric': 'logloss'}\n",
      "0.820400 (0.014921) with: {'model__colsample_bylevel': 0.6, 'model__eval_metric': 'logloss'}\n",
      "0.819289 (0.025813) with: {'model__colsample_bylevel': 0.7, 'model__eval_metric': 'logloss'}\n",
      "0.830507 (0.023540) with: {'model__colsample_bylevel': 0.8, 'model__eval_metric': 'logloss'}\n",
      "0.829377 (0.021685) with: {'model__colsample_bylevel': 1.0, 'model__eval_metric': 'logloss'}\n"
     ]
    },
    {
     "data": {
      "text/plain": [
       "Text(0, 0.5, 'Log Loss')"
      ]
     },
     "execution_count": 103,
     "metadata": {},
     "output_type": "execute_result"
    },
    {
     "data": {
      "image/png": "[encoded data removed]",
      "text/plain": [
       "<Figure size 432x288 with 1 Axes>"
      ]
     },
     "metadata": {
      "needs_background": "light"
     },
     "output_type": "display_data"
    }
   ],
   "source": [
    "print(\"Best: %f using %s\" % (grid_result.best_score_, grid_result.best_params_))\n",
    "means = grid_result.cv_results_['mean_test_score']\n",
    "stds = grid_result.cv_results_['std_test_score']\n",
    "params = grid_result.cv_results_['params']\n",
    "for mean, stdev, param in zip(means, stds, params):\n",
    "    print(\"%f (%f) with: %r\" % (mean, stdev, param))\n",
    "# plot\n",
    "plt.errorbar(colsample_bylevel, means, yerr=stds)\n",
    "plt.title(\"XGBoost colsample_bylevel vs Log Loss\")\n",
    "plt.xlabel('colsample_bylevel')\n",
    "plt.ylabel('Log Loss')\n",
    "# plt.savefig('colsample_bylevel.png')"
   ]
  },
  {
   "cell_type": "markdown",
   "id": "wound-hammer",
   "metadata": {},
   "source": [
    "## colsample_bynode"
   ]
  },
  {
   "cell_type": "code",
   "execution_count": 111,
   "id": "occasional-reproduction",
   "metadata": {},
   "outputs": [
    {
     "name": "stdout",
     "output_type": "stream",
     "text": [
      "Pipeline(steps=[('preproc', <__main__.Preprocessor object at 0x7fa4feeed520>),\n",
      "                ('model',\n",
      "                 XGBClassifier(base_score=None, booster=None,\n",
      "                               colsample_bylevel=0.8, colsample_bynode=None,\n",
      "                               colsample_bytree=None, gamma=None, gpu_id=None,\n",
      "                               importance_type='gain',\n",
      "                               interaction_constraints=None, learning_rate=None,\n",
      "                               max_delta_step=None, max_depth=3,\n",
      "                               min_child_weight=None, missing=nan,\n",
      "                               monotone_constraints=None, n_estimators=100,\n",
      "                               n_jobs=None, num_parallel_tree=None,\n",
      "                               random_state=None, reg_alpha=None,\n",
      "                               reg_lambda=None, scale_pos_weight=None,\n",
      "                               subsample=None, tree_method=None,\n",
      "                               use_label_encoder=False,\n",
      "                               validate_parameters=None, verbosity=None))])\n"
     ]
    }
   ],
   "source": [
    "print(pipeline)"
   ]
  },
  {
   "cell_type": "code",
   "execution_count": 112,
   "id": "timely-country",
   "metadata": {},
   "outputs": [
    {
     "name": "stdout",
     "output_type": "stream",
     "text": [
      "Fitting 3 folds for each of 9 candidates, totalling 27 fits\n"
     ]
    }
   ],
   "source": [
    "colsample_bynode = [0.1, 0.2, 0.3, 0.4, 0.5, 0.6, 0.7, 0.8, 1.0]\n",
    "param_grid = dict(model__colsample_bynode=colsample_bynode, model__eval_metric=['logloss'])\n",
    "kfold = StratifiedKFold(n_splits=3, shuffle=True, random_state=7)\n",
    "grid_search = GridSearchCV(pipeline, param_grid,\n",
    "        scoring=\"accuracy\", n_jobs=-1, cv=kfold, verbose=1)\n",
    "grid_result = grid_search.fit(df_train_val.values, y)"
   ]
  },
  {
   "cell_type": "code",
   "execution_count": 113,
   "id": "comfortable-catholic",
   "metadata": {},
   "outputs": [
    {
     "name": "stdout",
     "output_type": "stream",
     "text": [
      "Best: 0.832772 using {'model__colsample_bynode': 1.0, 'model__eval_metric': 'logloss'}\n",
      "0.814815 (0.015307) with: {'model__colsample_bynode': 0.1, 'model__eval_metric': 'logloss'}\n",
      "0.814815 (0.015307) with: {'model__colsample_bynode': 0.2, 'model__eval_metric': 'logloss'}\n",
      "0.814815 (0.015307) with: {'model__colsample_bynode': 0.3, 'model__eval_metric': 'logloss'}\n",
      "0.813692 (0.011446) with: {'model__colsample_bynode': 0.4, 'model__eval_metric': 'logloss'}\n",
      "0.830527 (0.001587) with: {'model__colsample_bynode': 0.5, 'model__eval_metric': 'logloss'}\n",
      "0.830527 (0.001587) with: {'model__colsample_bynode': 0.6, 'model__eval_metric': 'logloss'}\n",
      "0.831650 (0.012598) with: {'model__colsample_bynode': 0.7, 'model__eval_metric': 'logloss'}\n",
      "0.831650 (0.012598) with: {'model__colsample_bynode': 0.8, 'model__eval_metric': 'logloss'}\n",
      "0.832772 (0.007936) with: {'model__colsample_bynode': 1.0, 'model__eval_metric': 'logloss'}\n"
     ]
    },
    {
     "data": {
      "text/plain": [
       "Text(0, 0.5, 'Log Loss')"
      ]
     },
     "execution_count": 113,
     "metadata": {},
     "output_type": "execute_result"
    },
    {
     "data": {
      "image/png": "[encoded data removed]",
      "text/plain": [
       "<Figure size 432x288 with 1 Axes>"
      ]
     },
     "metadata": {
      "needs_background": "light"
     },
     "output_type": "display_data"
    }
   ],
   "source": [
    "print(\"Best: %f using %s\" % (grid_result.best_score_, grid_result.best_params_))\n",
    "means = grid_result.cv_results_['mean_test_score']\n",
    "stds = grid_result.cv_results_['std_test_score']\n",
    "params = grid_result.cv_results_['params']\n",
    "for mean, stdev, param in zip(means, stds, params):\n",
    "    print(\"%f (%f) with: %r\" % (mean, stdev, param))\n",
    "# plot\n",
    "plt.errorbar(colsample_bynode, means, yerr=stds)\n",
    "plt.title(\"XGBoost colsample_bynode vs Log Loss\")\n",
    "plt.xlabel('colsample_bynode')\n",
    "plt.ylabel('Log Loss')\n",
    "# plt.savefig('colsample_bylevel.png')"
   ]
  },
  {
   "cell_type": "code",
   "execution_count": 121,
   "id": "divine-coordinate",
   "metadata": {},
   "outputs": [],
   "source": [
    "def do_grid_search(pipeline, param_grid, x, y, plot_param=None):\n",
    "    kfold = StratifiedKFold(n_splits=3, shuffle=True, random_state=7)\n",
    "    grid_search = GridSearchCV(pipeline, param_grid,\n",
    "            scoring=\"accuracy\", n_jobs=-1, cv=kfold, verbose=2)\n",
    "    grid_result = grid_search.fit(x, y)\n",
    "    \n",
    "    print(\"Best: %f using %s\" % (grid_result.best_score_, grid_result.best_params_))\n",
    "    means = grid_result.cv_results_['mean_test_score']\n",
    "    stds = grid_result.cv_results_['std_test_score']\n",
    "    params = grid_result.cv_results_['params']\n",
    "    for mean, stdev, param in zip(means, stds, params):\n",
    "        print(\"%f (%f) with: %r\" % (mean, stdev, param))\n",
    "\n",
    "    # plot\n",
    "    if plot_param is not None:\n",
    "        plt.errorbar(param_grid[f'model__{plot_param}'], means, yerr=stds)\n",
    "        plt.title(f\"XGBoost {plot_param} vs Log Loss\")\n",
    "        plt.xlabel(plot_param)\n",
    "        plt.ylabel('Log Loss')\n",
    "        # plt.savefig('colsample_bylevel.png')\n",
    "        \n",
    "    return grid_result"
   ]
  },
  {
   "cell_type": "code",
   "execution_count": 123,
   "id": "conservative-restaurant",
   "metadata": {},
   "outputs": [
    {
     "name": "stdout",
     "output_type": "stream",
     "text": [
      "Pipeline(steps=[('preproc', <__main__.Preprocessor object at 0x7fa4feeed520>),\n",
      "                ('model',\n",
      "                 XGBClassifier(base_score=None, booster=None,\n",
      "                               colsample_bylevel=0.8, colsample_bynode=None,\n",
      "                               colsample_bytree=None, gamma=None, gpu_id=None,\n",
      "                               importance_type='gain',\n",
      "                               interaction_constraints=None, learning_rate=None,\n",
      "                               max_delta_step=None, max_depth=3,\n",
      "                               min_child_weight=None, missing=nan,\n",
      "                               monotone_constraints=None, n_estimators=100,\n",
      "                               n_jobs=None, num_parallel_tree=None,\n",
      "                               random_state=None, reg_alpha=None,\n",
      "                               reg_lambda=None, scale_pos_weight=None,\n",
      "                               subsample=None, tree_method=None,\n",
      "                               use_label_encoder=False,\n",
      "                               validate_parameters=None, verbosity=None))])\n",
      "Fitting 3 folds for each of 4 candidates, totalling 12 fits\n",
      "Best: 0.832772 using {'model__eval_metric': 'logloss', 'model__gamma': 0}\n",
      "0.832772 (0.007936) with: {'model__eval_metric': 'logloss', 'model__gamma': 0}\n",
      "0.827160 (0.005723) with: {'model__eval_metric': 'logloss', 'model__gamma': 0.01}\n",
      "0.829405 (0.001587) with: {'model__eval_metric': 'logloss', 'model__gamma': 0.1}\n",
      "0.828283 (0.011983) with: {'model__eval_metric': 'logloss', 'model__gamma': 0.5}\n"
     ]
    },
    {
     "data": {
      "image/png": "[encoded data removed]",
      "text/plain": [
       "<Figure size 432x288 with 1 Axes>"
      ]
     },
     "metadata": {
      "needs_background": "light"
     },
     "output_type": "display_data"
    }
   ],
   "source": [
    "print(pipeline)\n",
    "param_grid = dict(\n",
    "    model__gamma=[0, .01, .1, .5],\n",
    "    model__eval_metric=['logloss'])\n",
    "grid_result = do_grid_search(\n",
    "    pipeline, param_grid, df_train_val.values, y, plot_param='gamma')"
   ]
  },
  {
   "cell_type": "code",
   "execution_count": 124,
   "id": "level-politics",
   "metadata": {},
   "outputs": [
    {
     "name": "stdout",
     "output_type": "stream",
     "text": [
      "Pipeline(steps=[('preproc', <__main__.Preprocessor object at 0x7fa4feeed520>),\n",
      "                ('model',\n",
      "                 XGBClassifier(base_score=None, booster=None,\n",
      "                               colsample_bylevel=0.8, colsample_bynode=None,\n",
      "                               colsample_bytree=None, gamma=None, gpu_id=None,\n",
      "                               importance_type='gain',\n",
      "                               interaction_constraints=None, learning_rate=None,\n",
      "                               max_delta_step=None, max_depth=3,\n",
      "                               min_child_weight=None, missing=nan,\n",
      "                               monotone_constraints=None, n_estimators=100,\n",
      "                               n_jobs=None, num_parallel_tree=None,\n",
      "                               random_state=None, reg_alpha=None,\n",
      "                               reg_lambda=None, scale_pos_weight=None,\n",
      "                               subsample=None, tree_method=None,\n",
      "                               use_label_encoder=False,\n",
      "                               validate_parameters=None, verbosity=None))])\n",
      "Fitting 3 folds for each of 25 candidates, totalling 75 fits\n",
      "Best: 0.837262 using {'model__eval_metric': 'logloss', 'model__reg_alpha': 0.5, 'model__reg_lambda': 1}\n",
      "0.828283 (0.018027) with: {'model__eval_metric': 'logloss', 'model__reg_alpha': 0, 'model__reg_lambda': 0}\n",
      "0.818182 (0.005498) with: {'model__eval_metric': 'logloss', 'model__reg_alpha': 0, 'model__reg_lambda': 0.01}\n",
      "0.822671 (0.009655) with: {'model__eval_metric': 'logloss', 'model__reg_alpha': 0, 'model__reg_lambda': 0.1}\n",
      "0.833895 (0.007936) with: {'model__eval_metric': 'logloss', 'model__reg_alpha': 0, 'model__reg_lambda': 0.5}\n",
      "0.832772 (0.007936) with: {'model__eval_metric': 'logloss', 'model__reg_alpha': 0, 'model__reg_lambda': 1}\n",
      "0.824916 (0.009523) with: {'model__eval_metric': 'logloss', 'model__reg_alpha': 0.01, 'model__reg_lambda': 0}\n",
      "0.823793 (0.006349) with: {'model__eval_metric': 'logloss', 'model__reg_alpha': 0.01, 'model__reg_lambda': 0.01}\n",
      "0.824916 (0.002749) with: {'model__eval_metric': 'logloss', 'model__reg_alpha': 0.01, 'model__reg_lambda': 0.1}\n",
      "0.833895 (0.011111) with: {'model__eval_metric': 'logloss', 'model__reg_alpha': 0.01, 'model__reg_lambda': 0.5}\n",
      "0.831650 (0.005498) with: {'model__eval_metric': 'logloss', 'model__reg_alpha': 0.01, 'model__reg_lambda': 1}\n",
      "0.822671 (0.012397) with: {'model__eval_metric': 'logloss', 'model__reg_alpha': 0.1, 'model__reg_lambda': 0}\n",
      "0.823793 (0.011446) with: {'model__eval_metric': 'logloss', 'model__reg_alpha': 0.1, 'model__reg_lambda': 0.01}\n",
      "0.822671 (0.006919) with: {'model__eval_metric': 'logloss', 'model__reg_alpha': 0.1, 'model__reg_lambda': 0.1}\n",
      "0.830527 (0.009655) with: {'model__eval_metric': 'logloss', 'model__reg_alpha': 0.1, 'model__reg_lambda': 0.5}\n",
      "0.823793 (0.006919) with: {'model__eval_metric': 'logloss', 'model__reg_alpha': 0.1, 'model__reg_lambda': 1}\n",
      "0.829405 (0.012397) with: {'model__eval_metric': 'logloss', 'model__reg_alpha': 0.5, 'model__reg_lambda': 0}\n",
      "0.831650 (0.002749) with: {'model__eval_metric': 'logloss', 'model__reg_alpha': 0.5, 'model__reg_lambda': 0.01}\n",
      "0.830527 (0.004199) with: {'model__eval_metric': 'logloss', 'model__reg_alpha': 0.5, 'model__reg_lambda': 0.1}\n",
      "0.827160 (0.006919) with: {'model__eval_metric': 'logloss', 'model__reg_alpha': 0.5, 'model__reg_lambda': 0.5}\n",
      "0.837262 (0.008399) with: {'model__eval_metric': 'logloss', 'model__reg_alpha': 0.5, 'model__reg_lambda': 1}\n",
      "0.831650 (0.005498) with: {'model__eval_metric': 'logloss', 'model__reg_alpha': 1, 'model__reg_lambda': 0}\n",
      "0.829405 (0.008399) with: {'model__eval_metric': 'logloss', 'model__reg_alpha': 1, 'model__reg_lambda': 0.01}\n",
      "0.833895 (0.008399) with: {'model__eval_metric': 'logloss', 'model__reg_alpha': 1, 'model__reg_lambda': 0.1}\n",
      "0.832772 (0.004199) with: {'model__eval_metric': 'logloss', 'model__reg_alpha': 1, 'model__reg_lambda': 0.5}\n",
      "0.828283 (0.009912) with: {'model__eval_metric': 'logloss', 'model__reg_alpha': 1, 'model__reg_lambda': 1}\n"
     ]
    }
   ],
   "source": [
    "print(pipeline)\n",
    "param_grid = dict(\n",
    "    model__reg_alpha=[0, .01, .1, .5, 1],\n",
    "    model__reg_lambda=[0, .01, .1, .5, 1],\n",
    "    model__eval_metric=['logloss'])\n",
    "grid_result = do_grid_search(\n",
    "    pipeline, param_grid, df_train_val.values, y)"
   ]
  }
 ],
 "metadata": {
  "kernelspec": {
   "display_name": "Python 3",
   "language": "python",
   "name": "python3"
  },
  "language_info": {
   "codemirror_mode": {
    "name": "ipython",
    "version": 3
   },
   "file_extension": ".py",
   "mimetype": "text/x-python",
   "name": "python",
   "nbconvert_exporter": "python",
   "pygments_lexer": "ipython3",
   "version": "3.9.1"
  }
 },
 "nbformat": 4,
 "nbformat_minor": 5
}
