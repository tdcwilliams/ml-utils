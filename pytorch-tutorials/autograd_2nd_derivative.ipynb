{
 "cells": [
  {
   "cell_type": "code",
   "execution_count": 1,
   "id": "lucky-honduras",
   "metadata": {},
   "outputs": [],
   "source": [
    "import numpy as np\n",
    "\n",
    "import torch\n",
    "from torch.autograd import grad"
   ]
  },
  {
   "cell_type": "code",
   "execution_count": 2,
   "id": "executed-cleveland",
   "metadata": {},
   "outputs": [
    {
     "name": "stderr",
     "output_type": "stream",
     "text": [
      "/usr/local/lib/python3.6/dist-packages/torch/cuda/__init__.py:52: UserWarning: CUDA initialization: Found no NVIDIA driver on your system. Please check that you have an NVIDIA GPU and installed a driver from http://www.nvidia.com/Download/index.aspx (Triggered internally at  /pytorch/c10/cuda/CUDAFunctions.cpp:100.)\n",
      "  return torch._C._cuda_getDeviceCount() > 0\n"
     ]
    }
   ],
   "source": [
    "if torch.cuda.is_available():\n",
    "    _DEVICE = torch.device('cuda')\n",
    "    torch.set_default_tensor_type('torch.cuda.FloatTensor')\n",
    "else:\n",
    "    _DEVICE = torch.device('cpu')\n",
    "    torch.set_default_tensor_type('torch.FloatTensor')"
   ]
  },
  {
   "cell_type": "markdown",
   "id": "heard-minister",
   "metadata": {},
   "source": [
    "## Use `autograd.grad` to get $2^{\\rm nd}$ derivative\n",
    "Based on https://discuss.pytorch.org/t/calculating-second-derivative/97989"
   ]
  },
  {
   "cell_type": "code",
   "execution_count": 3,
   "id": "operating-nickname",
   "metadata": {
    "scrolled": true
   },
   "outputs": [
    {
     "name": "stdout",
     "output_type": "stream",
     "text": [
      "tensor([[1.5617, 0.1999, 0.8343],\n",
      "        [0.3741, 0.8439, 0.3889],\n",
      "        [0.8514, 1.3458, 0.8169],\n",
      "        [0.4942, 1.9762, 0.3306],\n",
      "        [0.5176, 1.3946, 0.3305]], requires_grad=True)\n",
      "tensor([[ 6.9322,  0.4079,  2.2491],\n",
      "        [ 0.8006,  2.2887,  0.8365],\n",
      "        [ 2.3200,  5.1290,  2.1790],\n",
      "        [ 1.1091, 11.6706,  0.6974],\n",
      "        [ 1.1740,  5.5017,  0.6971]], grad_fn=<AddBackward0>)\n",
      "1st derivative\n",
      "tensor([[ 9.3166,  2.1199,  4.0879],\n",
      "        [ 2.4198,  4.1364,  2.4537],\n",
      "        [ 4.1747,  7.4335,  4.0020],\n",
      "        [ 2.7327, 13.7164,  2.3279],\n",
      "        [ 2.8039,  7.8348,  2.3277]], grad_fn=<AddBackward0>)\n",
      "tensor([[ 9.3166,  2.1199,  4.0879],\n",
      "        [ 2.4198,  4.1364,  2.4537],\n",
      "        [ 4.1747,  7.4335,  4.0020],\n",
      "        [ 2.7327, 13.7164,  2.3279],\n",
      "        [ 2.8039,  7.8348,  2.3277]], grad_fn=<AddBackward0>)\n",
      "2nd derivative\n",
      "tensor([[ 9.3702,  1.1997,  5.0055],\n",
      "        [ 2.2446,  5.0632,  2.3332],\n",
      "        [ 5.1085,  8.0748,  4.9014],\n",
      "        [ 2.9652, 11.8574,  1.9837],\n",
      "        [ 3.1058,  8.3677,  1.9830]], grad_fn=<AddBackward0>)\n",
      "tensor([[ 9.3702,  1.1997,  5.0055],\n",
      "        [ 2.2446,  5.0632,  2.3332],\n",
      "        [ 5.1085,  8.0748,  4.9014],\n",
      "        [ 2.9652, 11.8574,  1.9837],\n",
      "        [ 3.1058,  8.3677,  1.9830]], grad_fn=<MulBackward0>)\n"
     ]
    }
   ],
   "source": [
    "def second_derivative(y, x):\n",
    "\n",
    "    ncols = x.shape[1]\n",
    "    dy_dx = torch.zeros(x.shape, device=_DEVICE)\n",
    "    d2y_dx2 = torch.zeros(x.shape, device=_DEVICE)\n",
    "    for i in range(ncols):\n",
    "        g = grad(y[:, i].unsqueeze(1), x,\n",
    "                 torch.ones(x.size()[0], 1, device=_DEVICE),\n",
    "                 create_graph=True, retain_graph=True)[0]\n",
    "        gg = grad(g[:,i].unsqueeze(1), x,\n",
    "                  torch.ones(x.size()[0], 1, device=_DEVICE),\n",
    "                  create_graph=True, retain_graph=True)[0]\n",
    "        dy_dx += g\n",
    "        d2y_dx2 += gg\n",
    "    print('1st derivative', dy_dx, 3*x**2+2, sep='\\n')\n",
    "    print('2nd derivative', d2y_dx2, 6*x, sep='\\n')\n",
    "            \n",
    "    return d2y_dx2\n",
    "\n",
    "x = 2*torch.rand((5,3))\n",
    "x.requires_grad_(True)\n",
    "x.retain_grad()\n",
    "print(x)\n",
    "y = x**3 + 2*x\n",
    "print(y)\n",
    "sec_der = second_derivative(y,x)"
   ]
  },
  {
   "cell_type": "markdown",
   "id": "inner-uruguay",
   "metadata": {},
   "source": [
    "## Use `autograd.grad` to convert optimisation problem to a linear system of equations"
   ]
  },
  {
   "cell_type": "code",
   "execution_count": 4,
   "id": "classified-richards",
   "metadata": {
    "scrolled": false
   },
   "outputs": [
    {
     "name": "stdout",
     "output_type": "stream",
     "text": [
      "tensor([0., 1., 2., 3., 4., 5., 6., 7., 8., 9.])\n",
      "tensor([ 3.,  5.,  7.,  9., 11., 13., 15., 17., 19., 21.])\n",
      "tensor(885., grad_fn=<MulBackward0>)\n"
     ]
    }
   ],
   "source": [
    "x = torch.arange(10.)\n",
    "y = 2*x + 3\n",
    "print(x, y, sep='\\n')\n",
    "\n",
    "a = torch.zeros((), device=_DEVICE, requires_grad=True)\n",
    "b = torch.zeros((), device=_DEVICE, requires_grad=True)\n",
    "\n",
    "loss = .5*(a*x+b-y).pow(2).sum()\n",
    "print(loss)"
   ]
  },
  {
   "cell_type": "code",
   "execution_count": 5,
   "id": "brilliant-lesson",
   "metadata": {},
   "outputs": [],
   "source": [
    "def solve(A, b):\n",
    "    A_ = A.detach().numpy()\n",
    "    b_ = b.detach().numpy()\n",
    "    soln = np.linalg.solve(A_, b_)\n",
    "    print(soln)"
   ]
  },
  {
   "cell_type": "code",
   "execution_count": 6,
   "id": "afraid-fitness",
   "metadata": {
    "scrolled": true
   },
   "outputs": [
    {
     "name": "stdout",
     "output_type": "stream",
     "text": [
      "tensor([[285.,  45.],\n",
      "        [ 45.,  10.]])\n",
      "tensor([705., 120.])\n",
      "[2. 3.]\n"
     ]
    }
   ],
   "source": [
    "mat = torch.FloatTensor([[(x**2).sum(), x.sum()], [x.sum(), 10.]])\n",
    "vec = torch.FloatTensor([(x*y).sum(), y.sum()])\n",
    "print(mat, vec, sep='\\n')\n",
    "solve(mat, vec)"
   ]
  },
  {
   "cell_type": "code",
   "execution_count": 7,
   "id": "southern-ribbon",
   "metadata": {},
   "outputs": [
    {
     "name": "stdout",
     "output_type": "stream",
     "text": [
      "tensor([705., 120.])\n"
     ]
    }
   ],
   "source": [
    "d_a = grad(loss, a, create_graph=True, retain_graph=True  )[0]\n",
    "d_b = grad(loss, b, create_graph=True, retain_graph=True  )[0]\n",
    "vec_ = - torch.FloatTensor([d_a, d_b])\n",
    "print(vec_)"
   ]
  },
  {
   "cell_type": "code",
   "execution_count": 8,
   "id": "subject-burns",
   "metadata": {},
   "outputs": [
    {
     "name": "stdout",
     "output_type": "stream",
     "text": [
      "tensor([[285.,  45.],\n",
      "        [ 45.,  10.]])\n",
      "[2. 3.]\n"
     ]
    }
   ],
   "source": [
    "d_aa = grad(d_a, a, create_graph=True, retain_graph=True  )[0]\n",
    "d_ab = grad(d_a, b, create_graph=True, retain_graph=True  )[0]\n",
    "d_ba = grad(d_b, a, create_graph=True, retain_graph=True  )[0]\n",
    "d_bb = grad(d_b, b, create_graph=True, retain_graph=True  )[0]\n",
    "mat_ = torch.FloatTensor([[d_aa, d_ab], [d_ba, d_bb]])\n",
    "print(mat_)\n",
    "solve(mat_, vec_)"
   ]
  },
  {
   "cell_type": "markdown",
   "id": "southeast-photography",
   "metadata": {},
   "source": [
    "## Use `autograd.grad` to convert optimisation problem to a linear system of equations\n",
    "Use vector operations this time"
   ]
  },
  {
   "cell_type": "code",
   "execution_count": 9,
   "id": "fundamental-tourist",
   "metadata": {},
   "outputs": [],
   "source": [
    "x = torch.arange(10.)\n",
    "y = 2*x + 3\n",
    "ab = torch.zeros((2,), device=_DEVICE, requires_grad=True)\n",
    "loss = .5*(ab[0]*x+ab[1]-y).pow(2).sum()"
   ]
  },
  {
   "cell_type": "code",
   "execution_count": 10,
   "id": "electrical-enlargement",
   "metadata": {},
   "outputs": [
    {
     "name": "stdout",
     "output_type": "stream",
     "text": [
      "[2. 3.]\n"
     ]
    }
   ],
   "source": [
    "g = grad(loss, ab, create_graph=True, retain_graph=True  )[0]\n",
    "gg = torch.zeros((2,2), device=_DEVICE)\n",
    "for i in range(2):\n",
    "    gg[i,:] = grad(g[i], ab, create_graph=True, retain_graph=True  )[0]\n",
    "solve(gg, -g)"
   ]
  },
  {
   "cell_type": "code",
   "execution_count": null,
   "id": "realistic-vietnamese",
   "metadata": {},
   "outputs": [],
   "source": []
  }
 ],
 "metadata": {
  "kernelspec": {
   "display_name": "Python 3",
   "language": "python",
   "name": "python3"
  },
  "language_info": {
   "codemirror_mode": {
    "name": "ipython",
    "version": 3
   },
   "file_extension": ".py",
   "mimetype": "text/x-python",
   "name": "python",
   "nbconvert_exporter": "python",
   "pygments_lexer": "ipython3",
   "version": "3.6.9"
  }
 },
 "nbformat": 4,
 "nbformat_minor": 5
}
